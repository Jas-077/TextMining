{
 "cells": [
  {
   "cell_type": "markdown",
   "metadata": {},
   "source": [
    "EXTRACTING SENSITIVE INFORMATION FROM TEXT"
   ]
  },
  {
   "cell_type": "markdown",
   "metadata": {},
   "source": [
    "Importing all packages and functions we need:"
   ]
  },
  {
   "cell_type": "code",
   "execution_count": 1,
   "metadata": {},
   "outputs": [],
   "source": [
    "import re\n",
    "import spacy\n",
    "\n",
    "# Load the English NLP model\n",
    "nlp = spacy.load(\"en_core_web_sm\")  # Use a small model for basic NER tasks\n"
   ]
  },
  {
   "cell_type": "code",
   "execution_count": 2,
   "metadata": {},
   "outputs": [],
   "source": [
    "def find_matches(pattern, string, flags=0):\n",
    "    # Compile RegEx pattern\n",
    "    p = re.compile(pattern, flags=flags)\n",
    "    # Match pattern against input text\n",
    "    matches = list(p.finditer(string))\n",
    "    # Handle matches\n",
    "    if len(matches) == 0:\n",
    "        return None\n",
    "    else:\n",
    "        return([m.group() for m in matches])"
   ]
  },
  {
   "cell_type": "markdown",
   "metadata": {},
   "source": [
    "Detecting sensitive info:"
   ]
  },
  {
   "cell_type": "code",
   "execution_count": 30,
   "metadata": {},
   "outputs": [],
   "source": [
    "# Define regex patterns\n",
    "# phone_pattern = r'\\b[689]\\d{7}\\b'  # Pattern for Singapore phone numbers\n",
    "phone_pattern = r\"\\s(\\+65)?[\\s-]?\\d{4}[\\s-]?\\d{4}\\b\"\n",
    "nric_pattern = r'\\b[SFTG]\\d{7}[A-Z]\\b'  # Pattern for Singapore NRIC/FIN\n",
    "# Placeholder pattern for bank account numbers; adjust as necessary\n",
    "bank_account_pattern = r'\\b\\d{10,12}\\b'\n",
    "email_pattern = r\"\\b[\\w.-]+?@\\w+?\\.\\w+?\\b\"  # Email address pattern\n",
    "pincode_pattern = r\"\\b\\d{5,6}\\b\"\n",
    "# Simple pattern for credit card numbers and CVVs; adjust as necessary\n",
    "credit_card_pattern = r\"\\b(?:\\d{4}[\\s-]?){3}\\d{4,7}\\b\"\n",
    "cvv_pattern = r\"\\b\\d{3}\\b\"\n",
    "\n",
    "def detect_sensitive_info(text):\n",
    "    # Initial regex detections\n",
    "    phone_numbers = find_matches(phone_pattern, text, flags=re.IGNORECASE)\n",
    "    nric_numbers = re.findall(nric_pattern, text)\n",
    "    bank_account_numbers = re.findall(bank_account_pattern, text)\n",
    "    email_addresses = re.findall(email_pattern, text)\n",
    "    pincodes = re.findall(pincode_pattern, text)\n",
    "    credit_card_numbers = re.findall(credit_card_pattern, text)\n",
    "    cvvs = re.findall(cvv_pattern, text)\n",
    "\n",
    "    regex_findings = set(phone_numbers + nric_numbers + bank_account_numbers + email_addresses +\n",
    "                         pincodes + credit_card_numbers + cvvs)\n",
    "    \n",
    "    # Use spaCy for NER\n",
    "    doc = nlp(text)\n",
    "    possible_addresses = []\n",
    "    named_entities = []\n",
    "    \n",
    "    for ent in doc.ents:\n",
    "        if any(regex_finding == ent.text for regex_finding in regex_findings):\n",
    "            continue  # Skip entities detected by regex\n",
    "        \n",
    "        if ent.label_ in [\"LOC\", \"GPE\", \"ORG\", \"FAC\"]:\n",
    "            possible_addresses.append(ent.text)\n",
    "        else:\n",
    "            named_entities.append((ent.text, ent.label_))\n",
    "\n",
    "    # Compile results, including regex findings\n",
    "    results = {\n",
    "        \"named_entities\": named_entities,\n",
    "        \"possible_addresses\": possible_addresses,\n",
    "        \"phone_numbers\": phone_numbers,\n",
    "        \"nric_numbers\": nric_numbers,\n",
    "        \"bank_account_numbers\": bank_account_numbers,\n",
    "        \"email_addresses\": email_addresses,\n",
    "        \"pincodes\": pincodes,\n",
    "        \"credit_card_numbers\": credit_card_numbers,\n",
    "        \"cvvs\": cvvs,\n",
    "    }\n",
    "\n",
    "    return results"
   ]
  },
  {
   "cell_type": "code",
   "execution_count": 31,
   "metadata": {},
   "outputs": [],
   "source": [
    "def print_formatted_info(info):\n",
    "    print(\"Detected Sensitive Information:\\n\")\n",
    "    \n",
    "    # Iterate over the results dictionary\n",
    "    for category, items in info.items():\n",
    "        # Print the category name\n",
    "        print(f\"{category.replace('_', ' ').title()}:\")\n",
    "        \n",
    "        if not items:  # Check if the list is empty\n",
    "            print(\"  None found.\\n\")\n",
    "            continue\n",
    "        \n",
    "        # Iterate over items in each category and print\n",
    "        for item in items:\n",
    "            # For named entities, 'item' is a tuple (text, label)\n",
    "            if isinstance(item, tuple):\n",
    "                print(f\"  - {item[0]} ({item[1]})\")\n",
    "            else:  # For regex matches, 'item' is just the matched string\n",
    "                print(f\"  - {item}\")\n",
    "        \n",
    "        print()  # Add an empty line for spacing"
   ]
  },
  {
   "cell_type": "markdown",
   "metadata": {},
   "source": [
    "Printing the sensitive info in an organized way:"
   ]
  },
  {
   "cell_type": "code",
   "execution_count": 32,
   "metadata": {},
   "outputs": [
    {
     "name": "stdout",
     "output_type": "stream",
     "text": [
      "Detected Sensitive Information:\n",
      "\n",
      "Named Entities:\n",
      "  - Vishwanath Dato (PERSON)\n",
      "  - 1234 5678 (DATE)\n",
      "  - John (PERSON)\n",
      "  - 8765 4321 (DATE)\n",
      "  - Jane (PERSON)\n",
      "  - 9876 5432 (DATE)\n",
      "\n",
      "Possible Addresses:\n",
      "  - Singapore\n",
      "  - NRIC\n",
      "  - Marina Bay Sands\n",
      "  - Orchard Road\n",
      "  - Singapore\n",
      "  - CVV\n",
      "\n",
      "Phone Numbers:\n",
      "  -  +65 1234 5678\n",
      "  -  1234 5678\n",
      "  -  9012 3456\n",
      "  -  +65 8765 4321\n",
      "  -  +65 9876 5432\n",
      "  -  9876-5432\n",
      "\n",
      "Nric Numbers:\n",
      "  - S1234567A\n",
      "\n",
      "Bank Account Numbers:\n",
      "  - 123456789012\n",
      "  - 987654321098\n",
      "\n",
      "Email Addresses:\n",
      "  - john.doe@example.com\n",
      "  - jane.doe@example.net\n",
      "\n",
      "Pincodes:\n",
      "  - 543210\n",
      "  - 098765\n",
      "\n",
      "Credit Card Numbers:\n",
      "  - 1234 5678 9012 3456\n",
      "  - 9876-5432-1098-7654\n",
      "\n",
      "Cvvs:\n",
      "  - 123\n",
      "  - 789\n",
      "  - 123\n",
      "\n"
     ]
    }
   ],
   "source": [
    "# text = \"John Doe's phone number is +65 81234567 and his NRIC is S1234567A. His bank account number is 123456789012.\"\n",
    "text = \"\"\"Vishwanath Da's email is ayush.goyal@example.com, and his phone number is +65 6234 5678. His NRIC is S1234567A. \n",
    "His bank account number is 123456789012. He works at Acme Corp, located at 123 Orchard Road, Singapore.\"\"\"\n",
    "text = \"\"\"Vishwanath Dato recently moved to 123 Baker Street, Singapore. His new pincode is 543210. \n",
    "You can reach him at +65 1234 5678 or via email at john.doe@example.com. His bank account number is 123456789012, \n",
    "and he just received his new credit card with the number 1234 5678 9012 3456, CVV 789. John's NRIC number is S1234567A. \n",
    "He mentioned his old address was near Marina Bay Sands, and he used to live in postal code 098765. \n",
    "His old phone number was +65 8765 4321. Jane, his sister, also moved to a new place near Orchard Road. \n",
    "Her email is jane.doe@example.net, and her Singapore phone number is +65 9876 5432. \n",
    "She's considering opening a new bank account since her old account number, 987654321098, is no longer in use. \n",
    "She also mentioned her CVV for a temporary card is 123, while waiting for her new card 9876-5432-1098-7654 to be activated.\"\"\"\n",
    "print_formatted_info(detect_sensitive_info(text))"
   ]
  },
  {
   "cell_type": "markdown",
   "metadata": {},
   "source": [
    "Names: Proper Nouns (Explore POS tagging)\n",
    "\n",
    "Regex before Entities\n",
    "\n",
    "Credit Card Info - Number, CVV\n",
    "\n",
    "Address - Pincode (5-6 digit)"
   ]
  },
  {
   "cell_type": "markdown",
   "metadata": {},
   "source": [
    "Calling the main extract function from a main python file:"
   ]
  },
  {
   "cell_type": "code",
   "execution_count": 24,
   "metadata": {},
   "outputs": [
    {
     "name": "stdout",
     "output_type": "stream",
     "text": [
      "The autoreload extension is already loaded. To reload it, use:\n",
      "  %reload_ext autoreload\n"
     ]
    }
   ],
   "source": [
    "%load_ext autoreload\n",
    "%autoreload 2"
   ]
  },
  {
   "cell_type": "code",
   "execution_count": 29,
   "metadata": {},
   "outputs": [
    {
     "name": "stdout",
     "output_type": "stream",
     "text": [
      "Detected Sensitive Information:\n",
      "\n",
      "Named Entities:\n",
      "  - Vishwanath Dato (PERSON)\n",
      "  - 1234 5678 (DATE)\n",
      "  - John (PERSON)\n",
      "  - 8765 4321 (DATE)\n",
      "  - Jane (PERSON)\n",
      "  - 9876 5432 (DATE)\n",
      "\n",
      "Possible Addresses:\n",
      "  - Singapore\n",
      "  - NRIC\n",
      "  - Marina Bay Sands\n",
      "  - Orchard Road\n",
      "  - Singapore\n",
      "  - CVV\n",
      "\n",
      "Phone Numbers:\n",
      "  -  +65 1234 5678\n",
      "  -  1234 5678\n",
      "  -  9012 3456\n",
      "  -  +65 8765 4321\n",
      "  -  +65 9876 5432\n",
      "  -  9876-5432\n",
      "\n",
      "Nric Numbers:\n",
      "  - S1234567A\n",
      "\n",
      "Bank Account Numbers:\n",
      "  - 123456789012\n",
      "  - 987654321098\n",
      "\n",
      "Email Addresses:\n",
      "  - john.doe@example.com\n",
      "  - jane.doe@example.net\n",
      "\n",
      "Pincodes:\n",
      "  - 543210\n",
      "  - 098765\n",
      "\n",
      "Credit Card Numbers:\n",
      "  - 1234 5678 9012 3456\n",
      "  - 9876-5432-1098-7654\n",
      "\n",
      "Cvvs:\n",
      "  - 123\n",
      "  - 789\n",
      "  - 123\n",
      "\n"
     ]
    }
   ],
   "source": [
    "from main import print_formatted_info, detect_sensitive_info\n",
    "\n",
    "text = \"\"\"Vishwanath Dato's email is ayush.goyal@example.com, and his phone number is +65 6234 5678. His NRIC is S1234567A. \n",
    "His bank account number is 123456789012. He works at Acme Corp, located at 123 Orchard Road, Singapore 576104.\"\"\"\n",
    "text = \"\"\"Vishwanath Dato recently moved to 123 Baker Street, Singapore. His new pincode is 543210. \n",
    "You can reach him at +65 1234 5678 or via email at john.doe@example.com. His bank account number is 123456789012, \n",
    "and he just received his new credit card with the number 1234 5678 9012 3456, CVV 789. John's NRIC number is S1234567A. \n",
    "He mentioned his old address was near Marina Bay Sands, and he used to live in postal code 098765. \n",
    "His old phone number was +65 8765 4321. Jane, his sister, also moved to a new place near Orchard Road. \n",
    "Her email is jane.doe@example.net, and her Singapore phone number is +65 9876 5432. \n",
    "She's considering opening a new bank account since her old account number, 987654321098, is no longer in use. \n",
    "She also mentioned her CVV for a temporary card is 123, while waiting for her new card 9876-5432-1098-7654 to be activated.\"\"\"\n",
    "print_formatted_info(detect_sensitive_info(text))"
   ]
  }
 ],
 "metadata": {
  "kernelspec": {
   "display_name": ".venv",
   "language": "python",
   "name": "python3"
  },
  "language_info": {
   "codemirror_mode": {
    "name": "ipython",
    "version": 3
   },
   "file_extension": ".py",
   "mimetype": "text/x-python",
   "name": "python",
   "nbconvert_exporter": "python",
   "pygments_lexer": "ipython3",
   "version": "3.12.2"
  }
 },
 "nbformat": 4,
 "nbformat_minor": 2
}
