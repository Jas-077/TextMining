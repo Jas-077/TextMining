{
 "cells": [
  {
   "cell_type": "markdown",
   "metadata": {},
   "source": [
    "EXTRACTING SENSITIVE INFORMATION FROM TEXT"
   ]
  },
  {
   "cell_type": "markdown",
   "metadata": {},
   "source": [
    "Importing all packages and functions we need:"
   ]
  },
  {
   "cell_type": "code",
   "execution_count": 4,
   "metadata": {},
   "outputs": [],
   "source": [
    "import re\n",
    "import spacy\n",
    "\n",
    "# Load the English NLP model\n",
    "nlp = spacy.load(\"en_core_web_sm\")  # Use a small model for basic NER tasks\n"
   ]
  },
  {
   "cell_type": "code",
   "execution_count": 47,
   "metadata": {},
   "outputs": [],
   "source": [
    "def find_matches(pattern, string, flags=0):\n",
    "    # Compile RegEx pattern\n",
    "    p = re.compile(pattern, flags=flags)\n",
    "    # Match pattern against input text\n",
    "    matches = list(p.finditer(string))\n",
    "    # Handle matches\n",
    "    if len(matches) == 0:\n",
    "        return None\n",
    "    else:\n",
    "        return([m.group() for m in matches])"
   ]
  },
  {
   "cell_type": "markdown",
   "metadata": {},
   "source": [
    "Detecting sensitive info:"
   ]
  },
  {
   "cell_type": "code",
   "execution_count": 54,
   "metadata": {},
   "outputs": [],
   "source": [
    "# Define regex patterns\n",
    "# phone_pattern = r'\\b[689]\\d{7}\\b'  # Pattern for Singapore phone numbers\n",
    "phone_pattern = r\"\\s(\\+65)?[\\s-]?\\d{4}[\\s-]?\\d{4}\\b\"\n",
    "nric_pattern = r'\\b[SFTG]\\d{7}[A-Z]\\b'  # Pattern for Singapore NRIC/FIN\n",
    "# Placeholder pattern for bank account numbers; adjust as necessary\n",
    "bank_account_pattern = r'\\b\\d{10,12}\\b'\n",
    "email_pattern = r\"\\b[\\w.-]+?@\\w+?\\.\\w+?\\b\"  # Email address pattern\n",
    "\n",
    "def detect_sensitive_info(text):\n",
    "    # Use spaCy for NER\n",
    "    doc = nlp(text)\n",
    "    named_entities = [(ent.text, ent.label_) for ent in doc.ents]\n",
    "    # Extract locations and organizations as potential address components\n",
    "    possible_addresses = [ent.text for ent in doc.ents if ent.label_ in [\"LOC\", \"GPE\", \"ORG\", \"FAC\"]]\n",
    "\n",
    "    # Use regex for custom pattern matching\n",
    "    phone_numbers = find_matches(phone_pattern, text, flags=re.IGNORECASE)\n",
    "    nric_numbers = re.findall(nric_pattern, text)\n",
    "    bank_account_numbers = re.findall(bank_account_pattern, text)\n",
    "    email_addresses = re.findall(email_pattern, text)\n",
    "\n",
    "    # Compile results\n",
    "    results = {\n",
    "        \"named_entities\": named_entities,\n",
    "        \"possible_addresses\": possible_addresses,\n",
    "        \"phone_numbers\": phone_numbers,\n",
    "        \"nric_numbers\": nric_numbers,\n",
    "        \"bank_account_numbers\": bank_account_numbers,\n",
    "        \"email_addresses\": email_addresses\n",
    "    }\n",
    "\n",
    "    return results"
   ]
  },
  {
   "cell_type": "markdown",
   "metadata": {},
   "source": [
    "Printing the sensitive info in an organized way:"
   ]
  },
  {
   "cell_type": "code",
   "execution_count": 57,
   "metadata": {},
   "outputs": [],
   "source": [
    "def print_formatted_info(info):\n",
    "    print(\"Detected Sensitive Information:\\n\")\n",
    "    \n",
    "    # Iterate over the results dictionary\n",
    "    for category, items in info.items():\n",
    "        # Print the category name\n",
    "        print(f\"{category.replace('_', ' ').title()}:\")\n",
    "        \n",
    "        if not items:  # Check if the list is empty\n",
    "            print(\"  None found.\\n\")\n",
    "            continue\n",
    "        \n",
    "        # Iterate over items in each category and print\n",
    "        for item in items:\n",
    "            # For named entities, 'item' is a tuple (text, label)\n",
    "            if isinstance(item, tuple):\n",
    "                print(f\"  - {item[0]} ({item[1]})\")\n",
    "            else:  # For regex matches, 'item' is just the matched string\n",
    "                print(f\"  - {item}\")\n",
    "        \n",
    "        print()  # Add an empty line for spacing"
   ]
  },
  {
   "cell_type": "code",
   "execution_count": 58,
   "metadata": {},
   "outputs": [
    {
     "name": "stdout",
     "output_type": "stream",
     "text": [
      "Detected Sensitive Information:\n",
      "\n",
      "Named Entities:\n",
      "  - John Doe's (PERSON)\n",
      "  - john.doe@example.com (PERSON)\n",
      "  - 1234 5678 (DATE)\n",
      "  - NRIC (ORG)\n",
      "  - 123456789012 (DATE)\n",
      "  - Acme Corp (ORG)\n",
      "  - 123 Orchard Road (FAC)\n",
      "  - Singapore (GPE)\n",
      "\n",
      "Possible Addresses:\n",
      "  - NRIC\n",
      "  - Acme Corp\n",
      "  - 123 Orchard Road\n",
      "  - Singapore\n",
      "\n",
      "Phone Numbers:\n",
      "  -  +65 1234 5678\n",
      "\n",
      "Nric Numbers:\n",
      "  - S1234567A\n",
      "\n",
      "Bank Account Numbers:\n",
      "  - 123456789012\n",
      "\n",
      "Email Addresses:\n",
      "  - john.doe@example.com\n",
      "\n"
     ]
    }
   ],
   "source": [
    "text = \"John Doe's phone number is +65 81234567 and his NRIC is S1234567A. His bank account number is 123456789012.\"\n",
    "text = \"\"\"John Doe's email is john.doe@example.com, and his phone number is +65 1234 5678. His NRIC is S1234567A. \n",
    "His bank account number is 123456789012. He works at Acme Corp, located at 123 Orchard Road, Singapore.\"\"\"\n",
    "print_formatted_info(detect_sensitive_info(text))"
   ]
  }
 ],
 "metadata": {
  "kernelspec": {
   "display_name": ".venv",
   "language": "python",
   "name": "python3"
  },
  "language_info": {
   "codemirror_mode": {
    "name": "ipython",
    "version": 3
   },
   "file_extension": ".py",
   "mimetype": "text/x-python",
   "name": "python",
   "nbconvert_exporter": "python",
   "pygments_lexer": "ipython3",
   "version": "3.12.2"
  }
 },
 "nbformat": 4,
 "nbformat_minor": 2
}
